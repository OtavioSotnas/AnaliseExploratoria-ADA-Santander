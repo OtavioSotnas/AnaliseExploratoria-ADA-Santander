{
 "cells": [
  {
   "cell_type": "code",
   "execution_count": 1,
   "metadata": {},
   "outputs": [
    {
     "name": "stderr",
     "output_type": "stream",
     "text": [
      "C:\\Users\\Nugrinho\\AppData\\Local\\Temp\\ipykernel_10764\\4036041157.py:4: DeprecationWarning: \n",
      "Pyarrow will become a required dependency of pandas in the next major release of pandas (pandas 3.0),\n",
      "(to allow more performant data types, such as the Arrow string type, and better interoperability with other libraries)\n",
      "but was not found to be installed on your system.\n",
      "If this would cause problems for you,\n",
      "please provide us feedback at https://github.com/pandas-dev/pandas/issues/54466\n",
      "        \n",
      "  import pandas as pd\n"
     ]
    }
   ],
   "source": [
    "# Importação das bibliotecas padrões\n",
    "#!pip install pandas\n",
    "#!pip install kaggle\n",
    "import pandas as pd\n",
    "#import numpy as np\n",
    "#!kaggle datasets download -d olist_geolocation_dataset\n"
   ]
  },
  {
   "cell_type": "code",
   "execution_count": 2,
   "metadata": {},
   "outputs": [],
   "source": [
    "# Importação dos datasets\n",
    "path1 = \"https://raw.githubusercontent.com/OtavioSotnas/AnaliseExploratoria-ADA-Santander/main/base%20de%20dados/olist_customers_dataset.csv\"\n",
    "path2 = \"../base de dados/olist_geolocation_dataset.csv\"\n",
    "\n",
    "database1 = pd.read_csv(path1)\n",
    "database2 = pd.read_csv(path2)"
   ]
  },
  {
   "cell_type": "code",
   "execution_count": 11,
   "metadata": {},
   "outputs": [
    {
     "name": "stdout",
     "output_type": "stream",
     "text": [
      "Quantidade de registros:  99441 \n",
      " \n",
      "\n",
      "Colunas da base de dados :\n",
      "    - customer_id\n",
      "    - customer_unique_id\n",
      "    - customer_zip_code_prefix\n",
      "    - customer_city\n",
      "    - customer_state\n",
      "Há valores nulos : False\n",
      "Há valores NaN : False\n",
      "\n",
      "\n",
      "\n",
      "Colunas 0 (customer_id), 1 (customer_unique_id) com valores únicos \n",
      " \n",
      " \n",
      "---*------*------*------*------*------*------*------*------*------*------*------*------*------*------*------*------*------*------*------*------*------*------*------*------*---\n",
      "10 estados com mais consumidores\n",
      "customer_state\n",
      "SP    41746\n",
      "RJ    12852\n",
      "MG    11635\n",
      "RS     5466\n",
      "PR     5045\n",
      "SC     3637\n",
      "BA     3380\n",
      "DF     2140\n",
      "ES     2033\n",
      "Name: count, dtype: int64\n",
      "Infomações consumidores por estado:  count       27.000000\n",
      "mean      3683.000000\n",
      "std       8270.437664\n",
      "min         46.000000\n",
      "25%        381.500000\n",
      "50%        907.000000\n",
      "75%       2760.000000\n",
      "max      41746.000000\n",
      "Name: count, dtype: float64\n",
      "---*------*------*------*------*------*------*------*------*------*------*------*------*------*------*------*------*------*------*------*------*------*------*------*------*---\n",
      "customer_id\n",
      "06b8999e2fba1a1fbc88172c00ba8bc7    1\n",
      "c023f30c1147aeb0358474f3b1dbc707    1\n",
      "b5cbf43f42281920a175fc99650c91d6    1\n",
      "19f4e983f8f05b7de16670f8a0cf0ac7    1\n",
      "229ac14c6ee6d6a606264ebcc861beb7    1\n",
      "                                   ..\n",
      "31665bd5bc542687ab54c9fd9ed9917b    1\n",
      "37fb9cce079a4887c96b59bae2011d05    1\n",
      "1d815f3ad9b2017b6da2c4f1cbb1180b    1\n",
      "6b05c8f3a25a71005d5eb9b51766c333    1\n",
      "274fa6071e5e17fe303b9748641082c8    1\n",
      "Name: count, Length: 99441, dtype: int64\n",
      "customer_unique_id\n",
      "8d50f5eadf50201ccdcedfb9e2ac8455    17\n",
      "3e43e6105506432c953e165fb2acf44c     9\n",
      "1b6c7548a2a1f9037c1fd3ddfed95f33     7\n",
      "ca77025e7201e3b30c44b472ff346268     7\n",
      "6469f99c1f9dfae7733b25662e7f1782     7\n",
      "                                    ..\n",
      "081f07439678af2da7755a0aa572154d     1\n",
      "9c57789a6a587f4efcfb01e36c106014     1\n",
      "9e4c21635f640562de1a6976374fba03     1\n",
      "06c0ea6ee892364d1608ee47aa9f56a0     1\n",
      "84732c5050c01db9b23e19ba39899398     1\n",
      "Name: count, Length: 96096, dtype: int64\n"
     ]
    }
   ],
   "source": [
    "#Primeiro dataframe\n",
    "print(\"Quantidade de registros: \", database1.shape[0], \"\\n \\n\")\n",
    "print(\"Colunas da base de dados :\")\n",
    "for i in range(database1.shape[1]):\n",
    "    print(f\"    - {database1.columns[i]}\")\n",
    "    \n",
    "print(\"Há valores nulos :\", database1.isnull().any().any())\n",
    "print(\"Há valores NaN :\", database1.isna().any().any())\n",
    "# print(database1.head())\n",
    "print(\"\\n\"*2)\n",
    "print(\"Colunas 0 (customer_id), 1 (customer_unique_id) com valores únicos \\n \\n \")\n",
    "print('---*---' * 25)\n",
    "print(\"10 estados com mais consumidores\")\n",
    "states_customers = database1['customer_state'].value_counts()\n",
    "print(states_customers[:9])\n",
    "print(\"Infomações consumidores por estado: \", states_customers.describe())\n",
    "print('---*---' * 25)\n",
    "\n",
    "print(database1['customer_id'].value_counts())\n",
    "print(database1['customer_unique_id'].value_counts())\n",
    "\n",
    "#Filtrar os \"\"\"\"\"\"\"Unícos\"\"\"\"\" que tem mais de uma entrada, e verificar porque tem entradas repetidas.\n",
    "\n",
    "\n",
    "\n",
    "\n"
   ]
  },
  {
   "cell_type": "code",
   "execution_count": 4,
   "metadata": {},
   "outputs": [
    {
     "name": "stdout",
     "output_type": "stream",
     "text": [
      "---*------*------*------*------*------*------*------*------*------*------*------*------*------*------*------*------*------*------*------*------*------*------*------*------*---\n",
      "10 cidades com mais consumidores\n",
      "customer_city\n",
      "sao paulo                15540\n",
      "rio de janeiro            6882\n",
      "belo horizonte            2773\n",
      "brasilia                  2131\n",
      "curitiba                  1521\n",
      "campinas                  1444\n",
      "porto alegre              1379\n",
      "salvador                  1245\n",
      "guarulhos                 1189\n",
      "sao bernardo do campo      938\n",
      "Name: count, dtype: int64\n",
      "---*------*------*------*------*------*------*------*------*------*------*------*------*------*------*------*------*------*------*------*------*------*------*------*------*---\n"
     ]
    }
   ],
   "source": [
    "print('---*---' * 25)\n",
    "print(\"10 cidades com mais consumidores\")\n",
    "print(database1['customer_city'].value_counts().head(10))\n",
    "print('---*---' * 25)"
   ]
  },
  {
   "cell_type": "code",
   "execution_count": 5,
   "metadata": {},
   "outputs": [
    {
     "name": "stdout",
     "output_type": "stream",
     "text": [
      "---*------*------*------*------*------*------*------*------*------*------*------*------*------*------*------*------*------*------*------*------*------*------*------*------*---\n",
      "10 regiões (ceps) com mais consumidores\n",
      "customer_zip_code_prefix\n",
      "22790    142\n",
      "24220    124\n",
      "22793    121\n",
      "24230    117\n",
      "22775    110\n",
      "29101    101\n",
      "13212     95\n",
      "35162     93\n",
      "22631     89\n",
      "38400     87\n",
      "Name: count, dtype: int64\n",
      "---*------*------*------*------*------*------*------*------*------*------*------*------*------*------*------*------*------*------*------*------*------*------*------*------*---\n"
     ]
    }
   ],
   "source": [
    "print('---*---' * 25)\n",
    "print(\"10 regiões (ceps) com mais consumidores\")\n",
    "print(database1['customer_zip_code_prefix'].value_counts().head(10))\n",
    "print('---*---' * 25)"
   ]
  },
  {
   "cell_type": "code",
   "execution_count": 6,
   "metadata": {},
   "outputs": [
    {
     "name": "stdout",
     "output_type": "stream",
     "text": [
      "---*------*------*------*------*------*------*------*------*------*------*------*------*------*------*------*------*------*------*------*------*------*------*------*------*---\n",
      "Descrição do dataset\n",
      "<class 'pandas.core.frame.DataFrame'>\n",
      "RangeIndex: 99441 entries, 0 to 99440\n",
      "Data columns (total 5 columns):\n",
      " #   Column                    Non-Null Count  Dtype \n",
      "---  ------                    --------------  ----- \n",
      " 0   customer_id               99441 non-null  object\n",
      " 1   customer_unique_id        99441 non-null  object\n",
      " 2   customer_zip_code_prefix  99441 non-null  int64 \n",
      " 3   customer_city             99441 non-null  object\n",
      " 4   customer_state            99441 non-null  object\n",
      "dtypes: int64(1), object(4)\n",
      "memory usage: 3.8+ MB\n",
      "None\n",
      "---*------*------*------*------*------*------*------*------*------*------*------*------*------*------*------*------*------*------*------*------*------*------*------*------*---\n"
     ]
    }
   ],
   "source": [
    "print('---*---' * 25)\n",
    "print(\"Descrição do dataset\")\n",
    "print(database1.info())\n",
    "print('---*---' * 25)"
   ]
  },
  {
   "cell_type": "code",
   "execution_count": 7,
   "metadata": {},
   "outputs": [
    {
     "name": "stdout",
     "output_type": "stream",
     "text": [
      "Quantidade de registros:  1000163 \n",
      " \n",
      "\n",
      "Há valores nulos : False\n",
      "Há valores NaN : False\n",
      "Colunas da base de dados :\n",
      "    - geolocation_zip_code_prefix\n",
      "    - geolocation_lat\n",
      "    - geolocation_lng\n",
      "    - geolocation_city\n",
      "    - geolocation_state\n",
      "---*------*------*------*------*------*------*------*------*------*------*------*------*------*------*------*------*------*------*------*------*------*------*------*------*---\n",
      "10 estados com mais consumidores\n",
      "geolocation_state\n",
      "SP    404268\n",
      "MG    126336\n",
      "RJ    121169\n",
      "RS     61851\n",
      "PR     57859\n",
      "SC     38328\n",
      "BA     36045\n",
      "GO     20139\n",
      "ES     16748\n",
      "PE     16432\n",
      "DF     12986\n",
      "MT     12031\n",
      "CE     11674\n",
      "PA     10853\n",
      "MS     10431\n",
      "MA      7853\n",
      "PB      5538\n",
      "RN      5041\n",
      "PI      4549\n",
      "AL      4183\n",
      "TO      3576\n",
      "SE      3563\n",
      "RO      3478\n",
      "AM      2432\n",
      "AC      1301\n",
      "AP       853\n",
      "RR       646\n",
      "Name: count, dtype: int64\n",
      "---*------*------*------*------*------*------*------*------*------*------*------*------*------*------*------*------*------*------*------*------*------*------*------*------*---\n"
     ]
    }
   ],
   "source": [
    "#Segundo dataframe\n",
    "print(\"Quantidade de registros: \", database2.shape[0], \"\\n \\n\")\n",
    "print(\"Há valores nulos :\",database2.isnull().any().any())\n",
    "print(\"Há valores NaN :\",database2.isna().any().any())\n",
    "print(\"Colunas da base de dados :\")\n",
    "for i in range(database2.shape[1]):\n",
    "    print(f\"    - {database2.columns[i]}\")\n",
    "\n",
    "print('---*---' * 25)\n",
    "print(\"10 estados com mais consumidores\")\n",
    "print(database2['geolocation_state'].value_counts())\n",
    "print('---*---' * 25)\n"
   ]
  },
  {
   "cell_type": "code",
   "execution_count": 8,
   "metadata": {},
   "outputs": [
    {
     "name": "stdout",
     "output_type": "stream",
     "text": [
      "---*------*------*------*------*------*------*------*------*------*------*------*------*------*------*------*------*------*------*------*------*------*------*------*------*---\n",
      "10 estados com mais consumidores\n",
      "geolocation_city\n",
      "sao paulo               135800\n",
      "rio de janeiro           62151\n",
      "belo horizonte           27805\n",
      "são paulo                24918\n",
      "curitiba                 16593\n",
      "                         ...  \n",
      "jacuípe                      1\n",
      "mar vermelho                 1\n",
      "quebrangulo                  1\n",
      "poço das trincheiras         1\n",
      "poxim                        1\n",
      "Name: count, Length: 8011, dtype: int64\n",
      "---*------*------*------*------*------*------*------*------*------*------*------*------*------*------*------*------*------*------*------*------*------*------*------*------*---\n"
     ]
    }
   ],
   "source": [
    "print('---*---' * 25)\n",
    "print(\"10 estados com mais consumidores\")\n",
    "print(database2['geolocation_city'].value_counts())\n",
    "print('---*---' * 25)"
   ]
  }
 ],
 "metadata": {
  "kernelspec": {
   "display_name": "Python 3",
   "language": "python",
   "name": "python3"
  },
  "language_info": {
   "codemirror_mode": {
    "name": "ipython",
    "version": 3
   },
   "file_extension": ".py",
   "mimetype": "text/x-python",
   "name": "python",
   "nbconvert_exporter": "python",
   "pygments_lexer": "ipython3",
   "version": "3.12.0"
  }
 },
 "nbformat": 4,
 "nbformat_minor": 2
}
