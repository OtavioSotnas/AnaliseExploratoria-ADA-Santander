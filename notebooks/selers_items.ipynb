{
  "cells": [
    {
      "cell_type": "code",
      "execution_count": 2,
      "metadata": {
        "id": "CZjY7be-8aso"
      },
      "outputs": [],
      "source": [
        "import pandas as pd\n",
        "import numpy as np"
      ]
    },
    {
      "cell_type": "code",
      "execution_count": 3,
      "metadata": {
        "id": "XtQffh7_8d6g"
      },
      "outputs": [],
      "source": [
        "url_sellers = 'https://raw.githubusercontent.com/OtavioSotnas/Trabalhinho-Ada-PT2/main/base%20de%20dados/olist_sellers_dataset.csv'\n",
        "url_items = 'https://raw.githubusercontent.com/OtavioSotnas/Trabalhinho-Ada-PT2/main/base%20de%20dados/olist_order_items_dataset.csv'"
      ]
    },
    {
      "cell_type": "code",
      "execution_count": 4,
      "metadata": {
        "id": "vtJ-wv_f84dB"
      },
      "outputs": [],
      "source": [
        "df_items = pd.read_csv(url_items)\n",
        "df_sellers = pd.read_csv(url_sellers)"
      ]
    },
    {
      "cell_type": "code",
      "execution_count": 5,
      "metadata": {
        "id": "qGUpT73J-6VS"
      },
      "outputs": [],
      "source": [
        "df_vendedores = df_sellers.rename(columns={\n",
        "    'seller_id': 'id_vendedor',\n",
        "    'seller_zip_code_prefix' : 'cep_vendedor',\n",
        "    'seller_city' : 'cidade_vendedor',\n",
        "    'seller_state' : 'estado_vendedor'})\n",
        "\n",
        "df_items = df_items.rename(columns={\n",
        "    'order_id' : 'id_pedido',\n",
        "    'order_item_id' : 'id_item_pedido',\n",
        "    'product_id' : 'id_produto',\n",
        "    'seller_id'  : 'id_vendedor',\n",
        "    'shipping_limit_date' : 'data_limite_envio',\n",
        "    'price' : 'valor',\n",
        "    'freight_value' : 'valor_frete'\n",
        "})"
      ]
    },
    {
      "cell_type": "code",
      "execution_count": 6,
      "metadata": {
        "id": "GJptJPvQ9_lJ"
      },
      "outputs": [],
      "source": [
        "df_items['valor_total'] = df_items['valor'] + df_items['valor_frete']"
      ]
    },
    {
      "cell_type": "code",
      "execution_count": 7,
      "metadata": {
        "colab": {
          "base_uri": "https://localhost:8080/",
          "height": 226
        },
        "id": "PP_v80JrIr_e",
        "outputId": "42f9bdda-5788-4d2b-a36c-ab89285cbd50"
      },
      "outputs": [
        {
          "data": {
            "text/html": [
              "<div>\n",
              "<style scoped>\n",
              "    .dataframe tbody tr th:only-of-type {\n",
              "        vertical-align: middle;\n",
              "    }\n",
              "\n",
              "    .dataframe tbody tr th {\n",
              "        vertical-align: top;\n",
              "    }\n",
              "\n",
              "    .dataframe thead th {\n",
              "        text-align: right;\n",
              "    }\n",
              "</style>\n",
              "<table border=\"1\" class=\"dataframe\">\n",
              "  <thead>\n",
              "    <tr style=\"text-align: right;\">\n",
              "      <th></th>\n",
              "      <th>id_pedido</th>\n",
              "      <th>id_item_pedido</th>\n",
              "      <th>id_produto</th>\n",
              "      <th>id_vendedor</th>\n",
              "      <th>data_limite_envio</th>\n",
              "      <th>valor</th>\n",
              "      <th>valor_frete</th>\n",
              "      <th>valor_total</th>\n",
              "    </tr>\n",
              "  </thead>\n",
              "  <tbody>\n",
              "    <tr>\n",
              "      <th>0</th>\n",
              "      <td>00010242fe8c5a6d1ba2dd792cb16214</td>\n",
              "      <td>1</td>\n",
              "      <td>4244733e06e7ecb4970a6e2683c13e61</td>\n",
              "      <td>48436dade18ac8b2bce089ec2a041202</td>\n",
              "      <td>2017-09-19 09:45:35</td>\n",
              "      <td>58.90</td>\n",
              "      <td>13.29</td>\n",
              "      <td>72.19</td>\n",
              "    </tr>\n",
              "    <tr>\n",
              "      <th>1</th>\n",
              "      <td>00018f77f2f0320c557190d7a144bdd3</td>\n",
              "      <td>1</td>\n",
              "      <td>e5f2d52b802189ee658865ca93d83a8f</td>\n",
              "      <td>dd7ddc04e1b6c2c614352b383efe2d36</td>\n",
              "      <td>2017-05-03 11:05:13</td>\n",
              "      <td>239.90</td>\n",
              "      <td>19.93</td>\n",
              "      <td>259.83</td>\n",
              "    </tr>\n",
              "    <tr>\n",
              "      <th>2</th>\n",
              "      <td>000229ec398224ef6ca0657da4fc703e</td>\n",
              "      <td>1</td>\n",
              "      <td>c777355d18b72b67abbeef9df44fd0fd</td>\n",
              "      <td>5b51032eddd242adc84c38acab88f23d</td>\n",
              "      <td>2018-01-18 14:48:30</td>\n",
              "      <td>199.00</td>\n",
              "      <td>17.87</td>\n",
              "      <td>216.87</td>\n",
              "    </tr>\n",
              "    <tr>\n",
              "      <th>3</th>\n",
              "      <td>00024acbcdf0a6daa1e931b038114c75</td>\n",
              "      <td>1</td>\n",
              "      <td>7634da152a4610f1595efa32f14722fc</td>\n",
              "      <td>9d7a1d34a5052409006425275ba1c2b4</td>\n",
              "      <td>2018-08-15 10:10:18</td>\n",
              "      <td>12.99</td>\n",
              "      <td>12.79</td>\n",
              "      <td>25.78</td>\n",
              "    </tr>\n",
              "    <tr>\n",
              "      <th>4</th>\n",
              "      <td>00042b26cf59d7ce69dfabb4e55b4fd9</td>\n",
              "      <td>1</td>\n",
              "      <td>ac6c3623068f30de03045865e4e10089</td>\n",
              "      <td>df560393f3a51e74553ab94004ba5c87</td>\n",
              "      <td>2017-02-13 13:57:51</td>\n",
              "      <td>199.90</td>\n",
              "      <td>18.14</td>\n",
              "      <td>218.04</td>\n",
              "    </tr>\n",
              "  </tbody>\n",
              "</table>\n",
              "</div>"
            ],
            "text/plain": [
              "                          id_pedido  id_item_pedido  \\\n",
              "0  00010242fe8c5a6d1ba2dd792cb16214               1   \n",
              "1  00018f77f2f0320c557190d7a144bdd3               1   \n",
              "2  000229ec398224ef6ca0657da4fc703e               1   \n",
              "3  00024acbcdf0a6daa1e931b038114c75               1   \n",
              "4  00042b26cf59d7ce69dfabb4e55b4fd9               1   \n",
              "\n",
              "                         id_produto                       id_vendedor  \\\n",
              "0  4244733e06e7ecb4970a6e2683c13e61  48436dade18ac8b2bce089ec2a041202   \n",
              "1  e5f2d52b802189ee658865ca93d83a8f  dd7ddc04e1b6c2c614352b383efe2d36   \n",
              "2  c777355d18b72b67abbeef9df44fd0fd  5b51032eddd242adc84c38acab88f23d   \n",
              "3  7634da152a4610f1595efa32f14722fc  9d7a1d34a5052409006425275ba1c2b4   \n",
              "4  ac6c3623068f30de03045865e4e10089  df560393f3a51e74553ab94004ba5c87   \n",
              "\n",
              "     data_limite_envio   valor  valor_frete  valor_total  \n",
              "0  2017-09-19 09:45:35   58.90        13.29        72.19  \n",
              "1  2017-05-03 11:05:13  239.90        19.93       259.83  \n",
              "2  2018-01-18 14:48:30  199.00        17.87       216.87  \n",
              "3  2018-08-15 10:10:18   12.99        12.79        25.78  \n",
              "4  2017-02-13 13:57:51  199.90        18.14       218.04  "
            ]
          },
          "execution_count": 7,
          "metadata": {},
          "output_type": "execute_result"
        }
      ],
      "source": [
        "df_items.head()"
      ]
    },
    {
      "cell_type": "code",
      "execution_count": 8,
      "metadata": {
        "colab": {
          "base_uri": "https://localhost:8080/"
        },
        "id": "sog1fnr0AnLI",
        "outputId": "453e63c1-e340-4d59-8659-019f5273059f"
      },
      "outputs": [
        {
          "data": {
            "text/plain": [
              "id_pedido            0\n",
              "id_item_pedido       0\n",
              "id_produto           0\n",
              "id_vendedor          0\n",
              "data_limite_envio    0\n",
              "valor                0\n",
              "valor_frete          0\n",
              "valor_total          0\n",
              "dtype: int64"
            ]
          },
          "execution_count": 8,
          "metadata": {},
          "output_type": "execute_result"
        }
      ],
      "source": [
        "df_items.isnull().sum() # Esses dados não contem valores nulos"
      ]
    },
    {
      "cell_type": "code",
      "execution_count": 9,
      "metadata": {
        "colab": {
          "base_uri": "https://localhost:8080/"
        },
        "id": "fDQKI3KBBCLx",
        "outputId": "2d609302-547b-4736-9a21-7ceb592d4587"
      },
      "outputs": [
        {
          "data": {
            "text/plain": [
              "id_vendedor        0\n",
              "cep_vendedor       0\n",
              "cidade_vendedor    0\n",
              "estado_vendedor    0\n",
              "dtype: int64"
            ]
          },
          "execution_count": 9,
          "metadata": {},
          "output_type": "execute_result"
        }
      ],
      "source": [
        "df_vendedores.isnull().sum() # Esses dados não contem valores nulos"
      ]
    },
    {
      "cell_type": "code",
      "execution_count": 10,
      "metadata": {
        "colab": {
          "base_uri": "https://localhost:8080/"
        },
        "id": "OfJWoUzLHz9F",
        "outputId": "cc209984-4fad-4a2c-cecd-18937a64f3ff"
      },
      "outputs": [
        {
          "data": {
            "text/plain": [
              "count    112650.000000\n",
              "mean         19.990320\n",
              "std          15.806405\n",
              "min           0.000000\n",
              "25%          13.080000\n",
              "50%          16.260000\n",
              "75%          21.150000\n",
              "max         409.680000\n",
              "Name: valor_frete, dtype: float64"
            ]
          },
          "execution_count": 10,
          "metadata": {},
          "output_type": "execute_result"
        }
      ],
      "source": [
        "df_items['valor_frete'].describe()"
      ]
    },
    {
      "cell_type": "code",
      "execution_count": 11,
      "metadata": {
        "colab": {
          "base_uri": "https://localhost:8080/",
          "height": 206
        },
        "id": "gN-e7w-nIFvG",
        "outputId": "83ee5c05-823c-49c6-ea9f-4ee4b8d86b84"
      },
      "outputs": [
        {
          "data": {
            "text/html": [
              "<div>\n",
              "<style scoped>\n",
              "    .dataframe tbody tr th:only-of-type {\n",
              "        vertical-align: middle;\n",
              "    }\n",
              "\n",
              "    .dataframe tbody tr th {\n",
              "        vertical-align: top;\n",
              "    }\n",
              "\n",
              "    .dataframe thead th {\n",
              "        text-align: right;\n",
              "    }\n",
              "</style>\n",
              "<table border=\"1\" class=\"dataframe\">\n",
              "  <thead>\n",
              "    <tr style=\"text-align: right;\">\n",
              "      <th></th>\n",
              "      <th>id_vendedor</th>\n",
              "      <th>cep_vendedor</th>\n",
              "      <th>cidade_vendedor</th>\n",
              "      <th>estado_vendedor</th>\n",
              "    </tr>\n",
              "  </thead>\n",
              "  <tbody>\n",
              "    <tr>\n",
              "      <th>0</th>\n",
              "      <td>3442f8959a84dea7ee197c632cb2df15</td>\n",
              "      <td>13023</td>\n",
              "      <td>campinas</td>\n",
              "      <td>SP</td>\n",
              "    </tr>\n",
              "    <tr>\n",
              "      <th>1</th>\n",
              "      <td>d1b65fc7debc3361ea86b5f14c68d2e2</td>\n",
              "      <td>13844</td>\n",
              "      <td>mogi guacu</td>\n",
              "      <td>SP</td>\n",
              "    </tr>\n",
              "    <tr>\n",
              "      <th>2</th>\n",
              "      <td>ce3ad9de960102d0677a81f5d0bb7b2d</td>\n",
              "      <td>20031</td>\n",
              "      <td>rio de janeiro</td>\n",
              "      <td>RJ</td>\n",
              "    </tr>\n",
              "    <tr>\n",
              "      <th>3</th>\n",
              "      <td>c0f3eea2e14555b6faeea3dd58c1b1c3</td>\n",
              "      <td>4195</td>\n",
              "      <td>sao paulo</td>\n",
              "      <td>SP</td>\n",
              "    </tr>\n",
              "    <tr>\n",
              "      <th>4</th>\n",
              "      <td>51a04a8a6bdcb23deccc82b0b80742cf</td>\n",
              "      <td>12914</td>\n",
              "      <td>braganca paulista</td>\n",
              "      <td>SP</td>\n",
              "    </tr>\n",
              "  </tbody>\n",
              "</table>\n",
              "</div>"
            ],
            "text/plain": [
              "                        id_vendedor  cep_vendedor    cidade_vendedor  \\\n",
              "0  3442f8959a84dea7ee197c632cb2df15         13023           campinas   \n",
              "1  d1b65fc7debc3361ea86b5f14c68d2e2         13844         mogi guacu   \n",
              "2  ce3ad9de960102d0677a81f5d0bb7b2d         20031     rio de janeiro   \n",
              "3  c0f3eea2e14555b6faeea3dd58c1b1c3          4195          sao paulo   \n",
              "4  51a04a8a6bdcb23deccc82b0b80742cf         12914  braganca paulista   \n",
              "\n",
              "  estado_vendedor  \n",
              "0              SP  \n",
              "1              SP  \n",
              "2              RJ  \n",
              "3              SP  \n",
              "4              SP  "
            ]
          },
          "execution_count": 11,
          "metadata": {},
          "output_type": "execute_result"
        }
      ],
      "source": [
        "df_vendedores.head()"
      ]
    },
    {
      "cell_type": "code",
      "execution_count": 12,
      "metadata": {
        "colab": {
          "base_uri": "https://localhost:8080/"
        },
        "id": "wExn0goKJ0f9",
        "outputId": "8a74ed53-8610-4055-abe8-d542100638fa"
      },
      "outputs": [
        {
          "data": {
            "text/plain": [
              "0                Campinas\n",
              "1              Mogi Guacu\n",
              "2          Rio De Janeiro\n",
              "3               Sao Paulo\n",
              "4       Braganca Paulista\n",
              "              ...        \n",
              "3090              Sarandi\n",
              "3091              Palhoca\n",
              "3092            Sao Paulo\n",
              "3093              Pelotas\n",
              "3094              Taubate\n",
              "Name: cidade_vendedor, Length: 3095, dtype: object"
            ]
          },
          "execution_count": 12,
          "metadata": {},
          "output_type": "execute_result"
        }
      ],
      "source": [
        "df_vendedores['cidade_vendedor'].str.title()"
      ]
    },
    {
      "cell_type": "code",
      "execution_count": 13,
      "metadata": {
        "colab": {
          "base_uri": "https://localhost:8080/",
          "height": 424
        },
        "id": "wu0tC4IzKfA1",
        "outputId": "9bb00778-baf2-40c9-9750-83af54d4042b"
      },
      "outputs": [
        {
          "data": {
            "text/html": [
              "<div>\n",
              "<style scoped>\n",
              "    .dataframe tbody tr th:only-of-type {\n",
              "        vertical-align: middle;\n",
              "    }\n",
              "\n",
              "    .dataframe tbody tr th {\n",
              "        vertical-align: top;\n",
              "    }\n",
              "\n",
              "    .dataframe thead th {\n",
              "        text-align: right;\n",
              "    }\n",
              "</style>\n",
              "<table border=\"1\" class=\"dataframe\">\n",
              "  <thead>\n",
              "    <tr style=\"text-align: right;\">\n",
              "      <th></th>\n",
              "      <th>id_vendedor</th>\n",
              "      <th>cep_vendedor</th>\n",
              "      <th>cidade_vendedor</th>\n",
              "      <th>estado_vendedor</th>\n",
              "    </tr>\n",
              "  </thead>\n",
              "  <tbody>\n",
              "    <tr>\n",
              "      <th>0</th>\n",
              "      <td>3442f8959a84dea7ee197c632cb2df15</td>\n",
              "      <td>13023</td>\n",
              "      <td>campinas</td>\n",
              "      <td>SP</td>\n",
              "    </tr>\n",
              "    <tr>\n",
              "      <th>1</th>\n",
              "      <td>d1b65fc7debc3361ea86b5f14c68d2e2</td>\n",
              "      <td>13844</td>\n",
              "      <td>mogi guacu</td>\n",
              "      <td>SP</td>\n",
              "    </tr>\n",
              "    <tr>\n",
              "      <th>2</th>\n",
              "      <td>ce3ad9de960102d0677a81f5d0bb7b2d</td>\n",
              "      <td>20031</td>\n",
              "      <td>rio de janeiro</td>\n",
              "      <td>RJ</td>\n",
              "    </tr>\n",
              "    <tr>\n",
              "      <th>3</th>\n",
              "      <td>c0f3eea2e14555b6faeea3dd58c1b1c3</td>\n",
              "      <td>4195</td>\n",
              "      <td>sao paulo</td>\n",
              "      <td>SP</td>\n",
              "    </tr>\n",
              "    <tr>\n",
              "      <th>4</th>\n",
              "      <td>51a04a8a6bdcb23deccc82b0b80742cf</td>\n",
              "      <td>12914</td>\n",
              "      <td>braganca paulista</td>\n",
              "      <td>SP</td>\n",
              "    </tr>\n",
              "    <tr>\n",
              "      <th>...</th>\n",
              "      <td>...</td>\n",
              "      <td>...</td>\n",
              "      <td>...</td>\n",
              "      <td>...</td>\n",
              "    </tr>\n",
              "    <tr>\n",
              "      <th>3090</th>\n",
              "      <td>98dddbc4601dd4443ca174359b237166</td>\n",
              "      <td>87111</td>\n",
              "      <td>sarandi</td>\n",
              "      <td>PR</td>\n",
              "    </tr>\n",
              "    <tr>\n",
              "      <th>3091</th>\n",
              "      <td>f8201cab383e484733266d1906e2fdfa</td>\n",
              "      <td>88137</td>\n",
              "      <td>palhoca</td>\n",
              "      <td>SC</td>\n",
              "    </tr>\n",
              "    <tr>\n",
              "      <th>3092</th>\n",
              "      <td>74871d19219c7d518d0090283e03c137</td>\n",
              "      <td>4650</td>\n",
              "      <td>sao paulo</td>\n",
              "      <td>SP</td>\n",
              "    </tr>\n",
              "    <tr>\n",
              "      <th>3093</th>\n",
              "      <td>e603cf3fec55f8697c9059638d6c8eb5</td>\n",
              "      <td>96080</td>\n",
              "      <td>pelotas</td>\n",
              "      <td>RS</td>\n",
              "    </tr>\n",
              "    <tr>\n",
              "      <th>3094</th>\n",
              "      <td>9e25199f6ef7e7c347120ff175652c3b</td>\n",
              "      <td>12051</td>\n",
              "      <td>taubate</td>\n",
              "      <td>SP</td>\n",
              "    </tr>\n",
              "  </tbody>\n",
              "</table>\n",
              "<p>3095 rows × 4 columns</p>\n",
              "</div>"
            ],
            "text/plain": [
              "                           id_vendedor  cep_vendedor    cidade_vendedor  \\\n",
              "0     3442f8959a84dea7ee197c632cb2df15         13023           campinas   \n",
              "1     d1b65fc7debc3361ea86b5f14c68d2e2         13844         mogi guacu   \n",
              "2     ce3ad9de960102d0677a81f5d0bb7b2d         20031     rio de janeiro   \n",
              "3     c0f3eea2e14555b6faeea3dd58c1b1c3          4195          sao paulo   \n",
              "4     51a04a8a6bdcb23deccc82b0b80742cf         12914  braganca paulista   \n",
              "...                                ...           ...                ...   \n",
              "3090  98dddbc4601dd4443ca174359b237166         87111            sarandi   \n",
              "3091  f8201cab383e484733266d1906e2fdfa         88137            palhoca   \n",
              "3092  74871d19219c7d518d0090283e03c137          4650          sao paulo   \n",
              "3093  e603cf3fec55f8697c9059638d6c8eb5         96080            pelotas   \n",
              "3094  9e25199f6ef7e7c347120ff175652c3b         12051            taubate   \n",
              "\n",
              "     estado_vendedor  \n",
              "0                 SP  \n",
              "1                 SP  \n",
              "2                 RJ  \n",
              "3                 SP  \n",
              "4                 SP  \n",
              "...              ...  \n",
              "3090              PR  \n",
              "3091              SC  \n",
              "3092              SP  \n",
              "3093              RS  \n",
              "3094              SP  \n",
              "\n",
              "[3095 rows x 4 columns]"
            ]
          },
          "execution_count": 13,
          "metadata": {},
          "output_type": "execute_result"
        }
      ],
      "source": [
        "df_vendedores"
      ]
    },
    {
      "cell_type": "code",
      "execution_count": null,
      "metadata": {
        "id": "i0BRa3HGKip8"
      },
      "outputs": [],
      "source": []
    }
  ],
  "metadata": {
    "colab": {
      "provenance": []
    },
    "kernelspec": {
      "display_name": "Python 3",
      "name": "python3"
    },
    "language_info": {
      "codemirror_mode": {
        "name": "ipython",
        "version": 3
      },
      "file_extension": ".py",
      "mimetype": "text/x-python",
      "name": "python",
      "nbconvert_exporter": "python",
      "pygments_lexer": "ipython3",
      "version": "3.12.2"
    }
  },
  "nbformat": 4,
  "nbformat_minor": 0
}
