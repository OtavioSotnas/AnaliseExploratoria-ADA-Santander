{
  "cells": [
    {
      "cell_type": "code",
      "execution_count": 2,
      "metadata": {
        "id": "CZjY7be-8aso"
      },
      "outputs": [],
      "source": [
        "import pandas as pd\n",
        "import numpy as np"
      ]
    },
    {
      "cell_type": "code",
      "execution_count": 3,
      "metadata": {
        "id": "XtQffh7_8d6g"
      },
      "outputs": [],
      "source": [
        "url_sellers = 'https://raw.githubusercontent.com/OtavioSotnas/Trabalhinho-Ada-PT2/main/base%20de%20dados/olist_sellers_dataset.csv'\n",
        "url_items = 'https://raw.githubusercontent.com/OtavioSotnas/Trabalhinho-Ada-PT2/main/base%20de%20dados/olist_order_items_dataset.csv'"
      ]
    },
    {
      "cell_type": "code",
      "execution_count": 4,
      "metadata": {
        "id": "vtJ-wv_f84dB"
      },
      "outputs": [],
      "source": [
        "df_sellers = pd.read_csv(url_sellers)"
      ]
    },
    {
      "cell_type": "code",
      "execution_count": 5,
      "metadata": {
        "id": "qGUpT73J-6VS"
      },
      "outputs": [],
      "source": [
        "df_vendedores = df_sellers.rename(columns={\n",
        "    'seller_id': 'id_vendedor',\n",
        "    'seller_zip_code_prefix' : 'cep_vendedor',\n",
        "    'seller_city' : 'cidade_vendedor',\n",
        "    'seller_state' : 'estado_vendedor'})"
      ]
    },
    {
      "cell_type": "code",
      "execution_count": 7,
      "metadata": {
        "colab": {
          "base_uri": "https://localhost:8080/"
        },
        "id": "wExn0goKJ0f9",
        "outputId": "8a74ed53-8610-4055-abe8-d542100638fa"
      },
      "outputs": [],
      "source": [
        "df_vendedores['cidade_estado'] = df_vendedores['cidade_vendedor'].str.title() + ' - ' + df_vendedores['estado_vendedor']"
      ]
    },
    {
      "cell_type": "code",
      "execution_count": 8,
      "metadata": {
        "colab": {
          "base_uri": "https://localhost:8080/",
          "height": 424
        },
        "id": "wu0tC4IzKfA1",
        "outputId": "9bb00778-baf2-40c9-9750-83af54d4042b"
      },
      "outputs": [
        {
          "data": {
            "text/html": [
              "<div>\n",
              "<style scoped>\n",
              "    .dataframe tbody tr th:only-of-type {\n",
              "        vertical-align: middle;\n",
              "    }\n",
              "\n",
              "    .dataframe tbody tr th {\n",
              "        vertical-align: top;\n",
              "    }\n",
              "\n",
              "    .dataframe thead th {\n",
              "        text-align: right;\n",
              "    }\n",
              "</style>\n",
              "<table border=\"1\" class=\"dataframe\">\n",
              "  <thead>\n",
              "    <tr style=\"text-align: right;\">\n",
              "      <th></th>\n",
              "      <th>id_vendedor</th>\n",
              "      <th>cep_vendedor</th>\n",
              "      <th>cidade_vendedor</th>\n",
              "      <th>estado_vendedor</th>\n",
              "      <th>cidade_estado</th>\n",
              "    </tr>\n",
              "  </thead>\n",
              "  <tbody>\n",
              "    <tr>\n",
              "      <th>0</th>\n",
              "      <td>3442f8959a84dea7ee197c632cb2df15</td>\n",
              "      <td>13023</td>\n",
              "      <td>campinas</td>\n",
              "      <td>SP</td>\n",
              "      <td>Campinas - SP</td>\n",
              "    </tr>\n",
              "    <tr>\n",
              "      <th>1</th>\n",
              "      <td>d1b65fc7debc3361ea86b5f14c68d2e2</td>\n",
              "      <td>13844</td>\n",
              "      <td>mogi guacu</td>\n",
              "      <td>SP</td>\n",
              "      <td>Mogi Guacu - SP</td>\n",
              "    </tr>\n",
              "    <tr>\n",
              "      <th>2</th>\n",
              "      <td>ce3ad9de960102d0677a81f5d0bb7b2d</td>\n",
              "      <td>20031</td>\n",
              "      <td>rio de janeiro</td>\n",
              "      <td>RJ</td>\n",
              "      <td>Rio De Janeiro - RJ</td>\n",
              "    </tr>\n",
              "    <tr>\n",
              "      <th>3</th>\n",
              "      <td>c0f3eea2e14555b6faeea3dd58c1b1c3</td>\n",
              "      <td>4195</td>\n",
              "      <td>sao paulo</td>\n",
              "      <td>SP</td>\n",
              "      <td>Sao Paulo - SP</td>\n",
              "    </tr>\n",
              "    <tr>\n",
              "      <th>4</th>\n",
              "      <td>51a04a8a6bdcb23deccc82b0b80742cf</td>\n",
              "      <td>12914</td>\n",
              "      <td>braganca paulista</td>\n",
              "      <td>SP</td>\n",
              "      <td>Braganca Paulista - SP</td>\n",
              "    </tr>\n",
              "    <tr>\n",
              "      <th>5</th>\n",
              "      <td>c240c4061717ac1806ae6ee72be3533b</td>\n",
              "      <td>20920</td>\n",
              "      <td>rio de janeiro</td>\n",
              "      <td>RJ</td>\n",
              "      <td>Rio De Janeiro - RJ</td>\n",
              "    </tr>\n",
              "    <tr>\n",
              "      <th>6</th>\n",
              "      <td>e49c26c3edfa46d227d5121a6b6e4d37</td>\n",
              "      <td>55325</td>\n",
              "      <td>brejao</td>\n",
              "      <td>PE</td>\n",
              "      <td>Brejao - PE</td>\n",
              "    </tr>\n",
              "    <tr>\n",
              "      <th>7</th>\n",
              "      <td>1b938a7ec6ac5061a66a3766e0e75f90</td>\n",
              "      <td>16304</td>\n",
              "      <td>penapolis</td>\n",
              "      <td>SP</td>\n",
              "      <td>Penapolis - SP</td>\n",
              "    </tr>\n",
              "    <tr>\n",
              "      <th>8</th>\n",
              "      <td>768a86e36ad6aae3d03ee3c6433d61df</td>\n",
              "      <td>1529</td>\n",
              "      <td>sao paulo</td>\n",
              "      <td>SP</td>\n",
              "      <td>Sao Paulo - SP</td>\n",
              "    </tr>\n",
              "    <tr>\n",
              "      <th>9</th>\n",
              "      <td>ccc4bbb5f32a6ab2b7066a4130f114e3</td>\n",
              "      <td>80310</td>\n",
              "      <td>curitiba</td>\n",
              "      <td>PR</td>\n",
              "      <td>Curitiba - PR</td>\n",
              "    </tr>\n",
              "  </tbody>\n",
              "</table>\n",
              "</div>"
            ],
            "text/plain": [
              "                        id_vendedor  cep_vendedor    cidade_vendedor  \\\n",
              "0  3442f8959a84dea7ee197c632cb2df15         13023           campinas   \n",
              "1  d1b65fc7debc3361ea86b5f14c68d2e2         13844         mogi guacu   \n",
              "2  ce3ad9de960102d0677a81f5d0bb7b2d         20031     rio de janeiro   \n",
              "3  c0f3eea2e14555b6faeea3dd58c1b1c3          4195          sao paulo   \n",
              "4  51a04a8a6bdcb23deccc82b0b80742cf         12914  braganca paulista   \n",
              "5  c240c4061717ac1806ae6ee72be3533b         20920     rio de janeiro   \n",
              "6  e49c26c3edfa46d227d5121a6b6e4d37         55325             brejao   \n",
              "7  1b938a7ec6ac5061a66a3766e0e75f90         16304          penapolis   \n",
              "8  768a86e36ad6aae3d03ee3c6433d61df          1529          sao paulo   \n",
              "9  ccc4bbb5f32a6ab2b7066a4130f114e3         80310           curitiba   \n",
              "\n",
              "  estado_vendedor           cidade_estado  \n",
              "0              SP           Campinas - SP  \n",
              "1              SP         Mogi Guacu - SP  \n",
              "2              RJ     Rio De Janeiro - RJ  \n",
              "3              SP          Sao Paulo - SP  \n",
              "4              SP  Braganca Paulista - SP  \n",
              "5              RJ     Rio De Janeiro - RJ  \n",
              "6              PE             Brejao - PE  \n",
              "7              SP          Penapolis - SP  \n",
              "8              SP          Sao Paulo - SP  \n",
              "9              PR           Curitiba - PR  "
            ]
          },
          "execution_count": 8,
          "metadata": {},
          "output_type": "execute_result"
        }
      ],
      "source": [
        "df_vendedores.head(10)"
      ]
    },
    {
      "cell_type": "code",
      "execution_count": 6,
      "metadata": {
        "colab": {
          "base_uri": "https://localhost:8080/"
        },
        "id": "fDQKI3KBBCLx",
        "outputId": "2d609302-547b-4736-9a21-7ceb592d4587"
      },
      "outputs": [
        {
          "data": {
            "text/plain": [
              "id_vendedor        0\n",
              "cep_vendedor       0\n",
              "cidade_vendedor    0\n",
              "estado_vendedor    0\n",
              "dtype: int64"
            ]
          },
          "execution_count": 6,
          "metadata": {},
          "output_type": "execute_result"
        }
      ],
      "source": [
        "df_vendedores.isnull().sum() # Esses dados não contem valores nulos"
      ]
    }
  ],
  "metadata": {
    "colab": {
      "provenance": []
    },
    "kernelspec": {
      "display_name": "Python 3",
      "name": "python3"
    },
    "language_info": {
      "codemirror_mode": {
        "name": "ipython",
        "version": 3
      },
      "file_extension": ".py",
      "mimetype": "text/x-python",
      "name": "python",
      "nbconvert_exporter": "python",
      "pygments_lexer": "ipython3",
      "version": "3.12.2"
    }
  },
  "nbformat": 4,
  "nbformat_minor": 0
}
